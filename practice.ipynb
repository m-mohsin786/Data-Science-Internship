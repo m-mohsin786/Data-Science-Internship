{
 "cells": [
  {
   "cell_type": "code",
   "execution_count": 1,
   "metadata": {},
   "outputs": [
    {
     "name": "stdout",
     "output_type": "stream",
     "text": [
      "{'title': 'Motorola Edge 50 Fusion (Marshmallow Blue, 256 GB)', 'price': '₹24,999', 'link': '/motorola-edge-50-fusion-marshmallow-blue-256-gb/p/itmd2b59acc725cf?pid=MOBGXTYZBAS4VM8K&lid=LSTMOBGXTYZBAS4VM8KX6T7CM&marketplace=FLIPKART&q=mobiles&store=tyy%2F4io&srno=s_1_1&otracker=search&otracker1=search&fm=organic&iid=fb1d3014-14ab-4800-ac10-d99e28472a5f.MOBGXTYZBAS4VM8K.SEARCH&ppt=None&ppn=None&ssid=qkglmw3s2o0000001719739252062&qH=eb4af0bf07c16429'}\n",
      "{'title': 'Motorola G34 5G (Ocean Green, 128 GB)', 'price': '₹11,999', 'link': '/motorola-g34-5g-ocean-green-128-gb/p/itm6b1a33b9d9191?pid=MOBGUFK4TZ2CJYHJ&lid=LSTMOBGUFK4TZ2CJYHJPBUF6M&marketplace=FLIPKART&q=mobiles&store=tyy%2F4io&spotlightTagId=BestsellerId_tyy%2F4io&srno=s_1_2&otracker=search&otracker1=search&fm=organic&iid=fb1d3014-14ab-4800-ac10-d99e28472a5f.MOBGUFK4TZ2CJYHJ.SEARCH&ppt=None&ppn=None&ssid=qkglmw3s2o0000001719739252062&qH=eb4af0bf07c16429'}\n",
      "{'title': 'Motorola G34 5G (Ice Blue, 128 GB)', 'price': '₹11,999', 'link': '/motorola-g34-5g-ice-blue-128-gb/p/itmc36bacc1f7bb0?pid=MOBGUFK4P2H9CY7Y&lid=LSTMOBGUFK4P2H9CY7Y4FYWMH&marketplace=FLIPKART&q=mobiles&store=tyy%2F4io&srno=s_1_3&otracker=search&otracker1=search&fm=organic&iid=fb1d3014-14ab-4800-ac10-d99e28472a5f.MOBGUFK4P2H9CY7Y.SEARCH&ppt=None&ppn=None&ssid=qkglmw3s2o0000001719739252062&qH=eb4af0bf07c16429'}\n",
      "{'title': 'Motorola G34 5G (Charcoal Black, 128 GB)', 'price': '₹11,999', 'link': '/motorola-g34-5g-charcoal-black-128-gb/p/itmcf3922f5c94b2?pid=MOBGUFK4QPQMAA2S&lid=LSTMOBGUFK4QPQMAA2SCAYBBS&marketplace=FLIPKART&q=mobiles&store=tyy%2F4io&srno=s_1_4&otracker=search&otracker1=search&fm=organic&iid=fb1d3014-14ab-4800-ac10-d99e28472a5f.MOBGUFK4QPQMAA2S.SEARCH&ppt=None&ppn=None&ssid=qkglmw3s2o0000001719739252062&qH=eb4af0bf07c16429'}\n",
      "{'title': 'REDMI 13C (Stardust Black, 128 GB)', 'price': '₹7,699', 'link': '/redmi-13c-stardust-black-128-gb/p/itm9b22752239e4d?pid=MOBGW4HKVU4ZGZFZ&lid=LSTMOBGW4HKVU4ZGZFZCHB6WV&marketplace=FLIPKART&q=mobiles&store=tyy%2F4io&srno=s_1_5&otracker=search&otracker1=search&fm=organic&iid=fb1d3014-14ab-4800-ac10-d99e28472a5f.MOBGW4HKVU4ZGZFZ.SEARCH&ppt=None&ppn=None&ssid=qkglmw3s2o0000001719739252062&qH=eb4af0bf07c16429'}\n",
      "{'title': 'POCO M6 Pro 5G (Power Black, 128 GB)', 'price': '₹9,999', 'link': '/poco-m6-pro-5g-power-black-128-gb/p/itmef8fa46f89738?pid=MOBGRNZ3ER4N3K4F&lid=LSTMOBGRNZ3ER4N3K4FIYYGCU&marketplace=FLIPKART&q=mobiles&store=tyy%2F4io&spotlightTagId=BestsellerId_tyy%2F4io&srno=s_1_6&otracker=search&otracker1=search&fm=organic&iid=fb1d3014-14ab-4800-ac10-d99e28472a5f.MOBGRNZ3ER4N3K4F.SEARCH&ppt=None&ppn=None&ssid=qkglmw3s2o0000001719739252062&qH=eb4af0bf07c16429'}\n",
      "{'title': 'Motorola g64 5G (Ice Lilac, 128 GB)', 'price': '₹13,999', 'link': '/motorola-g64-5g-ice-lilac-128-gb/p/itm36e3ccb6c9dee?pid=MOBGY2JUZHAXQ8ZG&lid=LSTMOBGY2JUZHAXQ8ZGKQ5SOK&marketplace=FLIPKART&q=mobiles&store=tyy%2F4io&srno=s_1_7&otracker=search&otracker1=search&fm=organic&iid=fb1d3014-14ab-4800-ac10-d99e28472a5f.MOBGY2JUZHAXQ8ZG.SEARCH&ppt=None&ppn=None&ssid=qkglmw3s2o0000001719739252062&qH=eb4af0bf07c16429'}\n",
      "{'title': 'realme 12x 5G (Twilight Purple, 128 GB)', 'price': '₹14,999', 'link': '/realme-12x-5g-twilight-purple-128-gb/p/itmaa3401e5370b5?pid=MOBGYQ6BVK8HYMAG&lid=LSTMOBGYQ6BVK8HYMAGXL2LRY&marketplace=FLIPKART&q=mobiles&store=tyy%2F4io&srno=s_1_8&otracker=search&otracker1=search&fm=organic&iid=fb1d3014-14ab-4800-ac10-d99e28472a5f.MOBGYQ6BVK8HYMAG.SEARCH&ppt=None&ppn=None&ssid=qkglmw3s2o0000001719739252062&qH=eb4af0bf07c16429'}\n",
      "{'title': 'POCO C65 (Pastel Blue, 128 GB)', 'price': '₹6,799', 'link': '/poco-c65-pastel-blue-128-gb/p/itm1586ff4fb1c2b?pid=MOBGVVTXZESSZY4W&lid=LSTMOBGVVTXZESSZY4WVAOO2Y&marketplace=FLIPKART&q=mobiles&store=tyy%2F4io&srno=s_1_9&otracker=search&otracker1=search&fm=organic&iid=fb1d3014-14ab-4800-ac10-d99e28472a5f.MOBGVVTXZESSZY4W.SEARCH&ppt=None&ppn=None&ssid=qkglmw3s2o0000001719739252062&qH=eb4af0bf07c16429'}\n",
      "{'title': 'Motorola g04s (Satin Blue, 64 GB)', 'price': '₹6,999', 'link': '/motorola-g04s-satin-blue-64-gb/p/itma899ac4728c8e?pid=MOBHY9PQM9H8HMEN&lid=LSTMOBHY9PQM9H8HMENQJT1JU&marketplace=FLIPKART&q=mobiles&store=tyy%2F4io&srno=s_1_10&otracker=search&otracker1=search&fm=organic&iid=fb1d3014-14ab-4800-ac10-d99e28472a5f.MOBHY9PQM9H8HMEN.SEARCH&ppt=None&ppn=None&ssid=qkglmw3s2o0000001719739252062&qH=eb4af0bf07c16429'}\n",
      "{'title': 'Motorola g64 5G (Mint Green, 128 GB)', 'price': '₹13,999', 'link': '/motorola-g64-5g-mint-green-128-gb/p/itm6dfa6fef0e50a?pid=MOBGY2JUK2JQHPYK&lid=LSTMOBGY2JUK2JQHPYKRPLV1S&marketplace=FLIPKART&q=mobiles&store=tyy%2F4io&srno=s_1_11&otracker=search&otracker1=search&fm=organic&iid=fb1d3014-14ab-4800-ac10-d99e28472a5f.MOBGY2JUK2JQHPYK.SEARCH&ppt=None&ppn=None&ssid=qkglmw3s2o0000001719739252062&qH=eb4af0bf07c16429'}\n",
      "{'title': 'realme 12x 5G (Woodland Green, 128 GB)', 'price': '₹12,999', 'link': '/realme-12x-5g-woodland-green-128-gb/p/itmaa3401e5370b5?pid=MOBGYQ6BETBWFTDH&lid=LSTMOBGYQ6BETBWFTDHJLSPJZ&marketplace=FLIPKART&q=mobiles&store=tyy%2F4io&srno=s_1_12&otracker=search&otracker1=search&fm=organic&iid=fb1d3014-14ab-4800-ac10-d99e28472a5f.MOBGYQ6BETBWFTDH.SEARCH&ppt=None&ppn=None&ssid=qkglmw3s2o0000001719739252062&qH=eb4af0bf07c16429'}\n",
      "{'title': 'realme 12x 5G (Twilight Purple, 128 GB)', 'price': '₹12,999', 'link': '/realme-12x-5g-twilight-purple-128-gb/p/itmaa3401e5370b5?pid=MOBGYQ6BMYWCAZEC&lid=LSTMOBGYQ6BMYWCAZECB5I66N&marketplace=FLIPKART&q=mobiles&store=tyy%2F4io&srno=s_1_13&otracker=search&otracker1=search&fm=organic&iid=fb1d3014-14ab-4800-ac10-d99e28472a5f.MOBGYQ6BMYWCAZEC.SEARCH&ppt=None&ppn=None&ssid=qkglmw3s2o0000001719739252062&qH=eb4af0bf07c16429'}\n",
      "{'title': 'POCO C65 (Pastel Green, 128 GB)', 'price': '₹6,799', 'link': '/poco-c65-pastel-green-128-gb/p/itm534cf85baf789?pid=MOBGXTV9GCTRG3NV&lid=LSTMOBGXTV9GCTRG3NVGJTTCT&marketplace=FLIPKART&q=mobiles&store=tyy%2F4io&srno=s_1_14&otracker=search&otracker1=search&fm=organic&iid=fb1d3014-14ab-4800-ac10-d99e28472a5f.MOBGXTV9GCTRG3NV.SEARCH&ppt=None&ppn=None&ssid=qkglmw3s2o0000001719739252062&qH=eb4af0bf07c16429'}\n",
      "{'title': 'realme 12x 5G (Woodland Green, 128 GB)', 'price': '₹14,999', 'link': '/realme-12x-5g-woodland-green-128-gb/p/itmaa3401e5370b5?pid=MOBGYQ6B7WKC4SVZ&lid=LSTMOBGYQ6B7WKC4SVZNEZRW7&marketplace=FLIPKART&q=mobiles&store=tyy%2F4io&srno=s_1_15&otracker=search&otracker1=search&fm=organic&iid=fb1d3014-14ab-4800-ac10-d99e28472a5f.MOBGYQ6B7WKC4SVZ.SEARCH&ppt=None&ppn=None&ssid=qkglmw3s2o0000001719739252062&qH=eb4af0bf07c16429'}\n",
      "{'title': 'Motorola Edge 50 Fusion (Marshmallow Blue, 128 GB)', 'price': '₹22,999', 'link': '/motorola-edge-50-fusion-marshmallow-blue-128-gb/p/itm7d39b15599c7e?pid=MOBGXTYZEZSZQE7W&lid=LSTMOBGXTYZEZSZQE7WCXS6AO&marketplace=FLIPKART&q=mobiles&store=tyy%2F4io&srno=s_1_16&otracker=search&otracker1=search&fm=organic&iid=fb1d3014-14ab-4800-ac10-d99e28472a5f.MOBGXTYZEZSZQE7W.SEARCH&ppt=None&ppn=None&ssid=qkglmw3s2o0000001719739252062&qH=eb4af0bf07c16429'}\n",
      "{'title': 'POCO C65 (Matte Black, 128 GB)', 'price': '₹6,799', 'link': '/poco-c65-matte-black-128-gb/p/itm8ea3d87aa6c0c?pid=MOBGVVTXAFHYHDZS&lid=LSTMOBGVVTXAFHYHDZSK9U3D1&marketplace=FLIPKART&q=mobiles&store=tyy%2F4io&srno=s_1_17&otracker=search&otracker1=search&fm=organic&iid=fb1d3014-14ab-4800-ac10-d99e28472a5f.MOBGVVTXAFHYHDZS.SEARCH&ppt=None&ppn=None&ssid=qkglmw3s2o0000001719739252062&qH=eb4af0bf07c16429'}\n",
      "{'title': 'Motorola g64 5G (Pearl Blue, 256 GB)', 'price': '₹15,999', 'link': '/motorola-g64-5g-pearl-blue-256-gb/p/itm1e0225e79669e?pid=MOBGY2JUZFHY6ZZP&lid=LSTMOBGY2JUZFHY6ZZPJ3GDTC&marketplace=FLIPKART&q=mobiles&store=tyy%2F4io&srno=s_1_18&otracker=search&otracker1=search&fm=organic&iid=fb1d3014-14ab-4800-ac10-d99e28472a5f.MOBGY2JUZFHY6ZZP.SEARCH&ppt=None&ppn=None&ssid=qkglmw3s2o0000001719739252062&qH=eb4af0bf07c16429'}\n",
      "{'title': 'REDMI 13C (Starshine Green, 128 GB)', 'price': '₹7,699', 'link': '/redmi-13c-starshine-green-128-gb/p/itmc4f0763fb3a50?pid=MOBGW4HKUXHFDYU2&lid=LSTMOBGW4HKUXHFDYU2WMFCCU&marketplace=FLIPKART&q=mobiles&store=tyy%2F4io&spotlightTagId=FkPickId_tyy%2F4io&srno=s_1_19&otracker=search&otracker1=search&fm=organic&iid=fb1d3014-14ab-4800-ac10-d99e28472a5f.MOBGW4HKUXHFDYU2.SEARCH&ppt=None&ppn=None&ssid=qkglmw3s2o0000001719739252062&qH=eb4af0bf07c16429'}\n",
      "{'title': 'Motorola g04s (Sea Green, 64 GB)', 'price': '₹6,999', 'link': '/motorola-g04s-sea-green-64-gb/p/itm6d82d81cfa8da?pid=MOBHY9PQZACQBKGG&lid=LSTMOBHY9PQZACQBKGGHNT2FF&marketplace=FLIPKART&q=mobiles&store=tyy%2F4io&srno=s_1_20&otracker=search&otracker1=search&fm=organic&iid=fb1d3014-14ab-4800-ac10-d99e28472a5f.MOBHY9PQZACQBKGG.SEARCH&ppt=None&ppn=None&ssid=qkglmw3s2o0000001719739252062&qH=eb4af0bf07c16429'}\n",
      "{'title': 'Motorola g64 5G (Pearl Blue, 128 GB)', 'price': '₹13,999', 'link': '/motorola-g64-5g-pearl-blue-128-gb/p/itm68710cef5104b?pid=MOBGY2JU53P3KMG9&lid=LSTMOBGY2JU53P3KMG9IXP4DQ&marketplace=FLIPKART&q=mobiles&store=tyy%2F4io&srno=s_1_21&otracker=search&otracker1=search&fm=organic&iid=fb1d3014-14ab-4800-ac10-d99e28472a5f.MOBGY2JU53P3KMG9.SEARCH&ppt=None&ppn=None&ssid=qkglmw3s2o0000001719739252062&qH=eb4af0bf07c16429'}\n",
      "{'title': 'Motorola g04s (Concord Black, 64 GB)', 'price': '₹6,999', 'link': '/motorola-g04s-concord-black-64-gb/p/itm1541ccc94a1a4?pid=MOBHY9PQGQAW2B5Y&lid=LSTMOBHY9PQGQAW2B5YBLYNQF&marketplace=FLIPKART&q=mobiles&store=tyy%2F4io&srno=s_1_22&otracker=search&otracker1=search&fm=organic&iid=fb1d3014-14ab-4800-ac10-d99e28472a5f.MOBHY9PQGQAW2B5Y.SEARCH&ppt=None&ppn=None&ssid=qkglmw3s2o0000001719739252062&qH=eb4af0bf07c16429'}\n",
      "{'title': 'OnePlus Nord CE 3 Lite 5G (Pastel Lime, 128 GB)', 'price': '₹16,780', 'link': '/oneplus-nord-ce-3-lite-5g-pastel-lime-128-gb/p/itm2cd5a4e659035?pid=MOBGZJ3WM5SGTGVZ&lid=LSTMOBGZJ3WM5SGTGVZSYSASP&marketplace=FLIPKART&q=mobiles&store=tyy%2F4io&srno=s_1_23&otracker=search&otracker1=search&fm=organic&iid=fb1d3014-14ab-4800-ac10-d99e28472a5f.MOBGZJ3WM5SGTGVZ.SEARCH&ppt=None&ppn=None&ssid=qkglmw3s2o0000001719739252062&qH=eb4af0bf07c16429'}\n",
      "{'title': 'OnePlus Nord CE 3 Lite 5G (Pastel Lime, 256 GB)', 'price': '₹18,499', 'link': '/oneplus-nord-ce-3-lite-5g-pastel-lime-256-gb/p/itm2cd5a4e659035?pid=MOBGZJ3ZFQ8AKKRS&lid=LSTMOBGZJ3ZFQ8AKKRSPSGNOG&marketplace=FLIPKART&q=mobiles&store=tyy%2F4io&srno=s_1_24&otracker=search&otracker1=search&fm=organic&iid=fb1d3014-14ab-4800-ac10-d99e28472a5f.MOBGZJ3ZFQ8AKKRS.SEARCH&ppt=None&ppn=None&ssid=qkglmw3s2o0000001719739252062&qH=eb4af0bf07c16429'}\n"
     ]
    }
   ],
   "source": [
    "from dputils.scrape import Scraper, Tag\n",
    "\n",
    "url = \"https://www.flipkart.com/search?q=mobiles&otracker=search&otracker1=search&marketplace=FLIPKART&as-show=on&as=off\"\n",
    "\n",
    "scraper = Scraper(url)\n",
    "out = scraper.get_repeating_date_from_page(\n",
    "    target=Tag('div', cls='DOjaWF gdgoEp'),\n",
    "    items=Tag('div', cls='_75nlfW'),\n",
    "    title=Tag('div', cls='KzDlHZ'),\n",
    "    price=Tag('div', cls='Nx9bqj _4b5DiR'),\n",
    "    link=Tag('a', cls='CGtC98', output='href'),\n",
    ")\n",
    "\n",
    "for item in out:\n",
    "    print(item)"
   ]
  },
  {
   "cell_type": "code",
   "execution_count": null,
   "metadata": {},
   "outputs": [],
   "source": []
  }
 ],
 "metadata": {
  "kernelspec": {
   "display_name": "base",
   "language": "python",
   "name": "python3"
  },
  "language_info": {
   "codemirror_mode": {
    "name": "ipython",
    "version": 3
   },
   "file_extension": ".py",
   "mimetype": "text/x-python",
   "name": "python",
   "nbconvert_exporter": "python",
   "pygments_lexer": "ipython3",
   "version": "3.12.2"
  }
 },
 "nbformat": 4,
 "nbformat_minor": 2
}
