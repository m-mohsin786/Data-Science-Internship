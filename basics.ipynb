{
 "cells": [
  {
   "cell_type": "markdown",
   "metadata": {},
   "source": [
    "# Basics\n",
    "- variable\n",
    "- input\n",
    "- ouput\n"
   ]
  },
  {
   "cell_type": "code",
   "execution_count": null,
   "metadata": {},
   "outputs": [],
   "source": [
    "x = 1.90\n",
    "y = \"lucknow\""
   ]
  },
  {
   "cell_type": "code",
   "execution_count": null,
   "metadata": {},
   "outputs": [],
   "source": [
    "a = [1, 2, 3, 4]\n",
    "b = {'name': 'raju', 'age': 12}"
   ]
  },
  {
   "cell_type": "code",
   "execution_count": null,
   "metadata": {},
   "outputs": [],
   "source": [
    "x"
   ]
  },
  {
   "cell_type": "code",
   "execution_count": null,
   "metadata": {},
   "outputs": [],
   "source": [
    "name = input(\"enter your name\")"
   ]
  },
  {
   "cell_type": "code",
   "execution_count": null,
   "metadata": {},
   "outputs": [],
   "source": [
    "city = input(\"enter your city\")\n",
    "fav_movie = input(\"enter your fav movie\")\n",
    "fav_color = input(\"enter your fav color\")"
   ]
  },
  {
   "cell_type": "code",
   "execution_count": null,
   "metadata": {},
   "outputs": [],
   "source": [
    "num1 = input(\"enter a number A\")\n",
    "num2 = input(\"enter a number B\")"
   ]
  },
  {
   "cell_type": "markdown",
   "metadata": {},
   "source": [
    "## displaying data"
   ]
  },
  {
   "cell_type": "code",
   "execution_count": null,
   "metadata": {},
   "outputs": [],
   "source": [
    "print('Welcome to Displaying Data') # static message to display"
   ]
  },
  {
   "cell_type": "code",
   "execution_count": null,
   "metadata": {},
   "outputs": [],
   "source": [
    "a = 'Alex'\n",
    "b = 'Baron'\n",
    "print(a) # display the value of a\n",
    "print(b) # display the value of b"
   ]
  },
  {
   "cell_type": "code",
   "execution_count": null,
   "metadata": {},
   "outputs": [],
   "source": [
    "print(a, b)\n",
    "print(a, a, a, a)"
   ]
  },
  {
   "cell_type": "code",
   "execution_count": null,
   "metadata": {},
   "outputs": [],
   "source": [
    "name = input('enter your name')\n",
    "print('Your name is', name) "
   ]
  },
  {
   "cell_type": "code",
   "execution_count": null,
   "metadata": {},
   "outputs": [],
   "source": [
    "num1 = input('enter a number')\n",
    "num2 = input('enter another number')\n",
    "print('The first num is', num1, 'and the second num is', num2)"
   ]
  },
  {
   "cell_type": "code",
   "execution_count": null,
   "metadata": {},
   "outputs": [],
   "source": [
    "print('The first num is', num1)\n",
    "print()\n",
    "print('and the second num is', num2)"
   ]
  },
  {
   "cell_type": "markdown",
   "metadata": {},
   "source": [
    "`displaying data with messages`\n",
    "\n",
    "1. comma seperated ✅\n",
    "2. format string\n",
    "3. format method\n",
    "4. string concatenation\n",
    "5. f-string"
   ]
  },
  {
   "cell_type": "code",
   "execution_count": null,
   "metadata": {},
   "outputs": [],
   "source": [
    "# format string\n",
    "a, b, c = 5, 3.2, \"Hello\" # multiple assignment\n",
    "print(\"the values are %d, %f, %s\" % (a, b, c)) # %d = int, %f = float, %s = string\n",
    "print(\"the values are %s, %d, %f\" % (c, a, b)) \n",
    "print(\"the values are %s, %s, %s\" % (c, a, b))"
   ]
  },
  {
   "cell_type": "code",
   "execution_count": null,
   "metadata": {},
   "outputs": [],
   "source": [
    "# format method\n",
    "print('the value of a=>{}, b=>{}, c=>{}'.format(a,b,c))"
   ]
  },
  {
   "cell_type": "code",
   "execution_count": null,
   "metadata": {},
   "outputs": [],
   "source": [
    "# string concatenation\n",
    "print('Hello' + 'World')\n",
    "print('the value of a=' + str(a))\n",
    "print('the value of c=' + c)\n",
    "print('the value of b=' + str(b))"
   ]
  },
  {
   "cell_type": "code",
   "execution_count": null,
   "metadata": {},
   "outputs": [],
   "source": [
    "# f-string\n",
    "print(f'the value of a=>{a}, b=>{b}, c=>{c}')"
   ]
  },
  {
   "cell_type": "markdown",
   "metadata": {},
   "source": [
    "### f-string setting"
   ]
  },
  {
   "cell_type": "code",
   "execution_count": null,
   "metadata": {},
   "outputs": [],
   "source": [
    "# formatting values\n",
    "a,b = 10,3\n",
    "print(f'{a}/{b} = {a/b}')\n",
    "print(f'{a}/{b} = {a/b:.2f}') # .2f = 2 decimal places"
   ]
  },
  {
   "cell_type": "code",
   "execution_count": null,
   "metadata": {},
   "outputs": [],
   "source": [
    "# alignment\n",
    "name = 'Alex'\n",
    "print(f'Your are {name}')\n",
    "print(f'Your are {name:10}') # 10 here is number of characters for display \n",
    "print(f'Your are {name:>10}') # right alignment\n",
    "print(f'Your are {name:^10}') # center alignment"
   ]
  },
  {
   "cell_type": "code",
   "execution_count": null,
   "metadata": {},
   "outputs": [],
   "source": [
    "a,b,c,d ='Apple', 'Blueberry', 'Cherry', 'Dragonfruit'\n",
    "print(f'🍎 fruit 1: {a:>12}')\n",
    "print(f'🍇 fruit 2: {b:>12}')\n",
    "print(f'🍒 fruit 3: {c:>12}')\n",
    "print(f'🍉 fruit 4: {d:>12}')"
   ]
  },
  {
   "cell_type": "markdown",
   "metadata": {},
   "source": [
    "## operaters\n",
    "- arithmetic `+ - * / % // **`\n",
    "- assignment `= += -= *= /= and so on`\n",
    "- comparison\n",
    "- logical `and or not`\n",
    "- relationship `in`\n",
    "- identity `is`\n",
    "- bitwise"
   ]
  },
  {
   "cell_type": "code",
   "execution_count": null,
   "metadata": {},
   "outputs": [],
   "source": [
    "x = 10\n",
    "y = 3\n",
    "print(f'{x} + {y} = {x+y}')\n",
    "print(f'{x} - {y} = {x-y}')\n",
    "print(f'{x} * {y} = {x*y}')\n",
    "print(f'{x} / {y} = {x/y}')\n",
    "print(f'{x} // {y} = {x//y}')\n",
    "print(f'{x} % {y} = {x%y}')\n",
    "print(f'{x} ** {y} = {x**y}')"
   ]
  },
  {
   "cell_type": "code",
   "execution_count": null,
   "metadata": {},
   "outputs": [],
   "source": [
    "eq = x**2 + y**2 % 10 - 5 * 2\n",
    "print(eq)"
   ]
  },
  {
   "cell_type": "code",
   "execution_count": null,
   "metadata": {},
   "outputs": [],
   "source": [
    "x = 120\n",
    "x += 5  # update x by adding 5\n",
    "x *= 10 # update x by multiplying by 10\n",
    "x /= 2  # update x by dividing by 2"
   ]
  },
  {
   "cell_type": "code",
   "execution_count": null,
   "metadata": {},
   "outputs": [],
   "source": [
    "print(x > y)  # greater than\n",
    "print(x < y)  # less than\n",
    "print(x == y) # equal to\n",
    "print(x != y) # not equal to\n",
    "print(x >= y) # greater than or equal to\n",
    "print(x <= y) # less than or equal to"
   ]
  },
  {
   "cell_type": "code",
   "execution_count": null,
   "metadata": {},
   "outputs": [],
   "source": [
    "x + 10 > y - 5"
   ]
  },
  {
   "cell_type": "code",
   "execution_count": null,
   "metadata": {},
   "outputs": [],
   "source": [
    "x > y and x < 100"
   ]
  },
  {
   "cell_type": "code",
   "execution_count": null,
   "metadata": {},
   "outputs": [],
   "source": [
    "x > y and x > 100 # this will not be displayed \n",
    "x > 15 or y > 10"
   ]
  },
  {
   "cell_type": "code",
   "execution_count": null,
   "metadata": {},
   "outputs": [],
   "source": [
    "fruits = ['apple', 'banana', 'cherry', 'date', 'elderberry']\n",
    "print('cherry' in fruits)\n",
    "print('Cherry' in fruits)\n",
    "print('blueberry' in fruits)\n",
    "print('apple' in fruits)"
   ]
  },
  {
   "cell_type": "code",
   "execution_count": null,
   "metadata": {},
   "outputs": [],
   "source": [
    "# this is not the best concept\n",
    "f = fruits # f is a reference to fruits\n",
    "print(f is fruits)\n",
    "f2 = fruits.copy() # f2 is a copy of fruits\n",
    "print(f2 is fruits)"
   ]
  },
  {
   "cell_type": "markdown",
   "metadata": {},
   "source": [
    "typecasting"
   ]
  },
  {
   "cell_type": "code",
   "execution_count": null,
   "metadata": {},
   "outputs": [],
   "source": [
    "x =  10\n",
    "xf = float(x)\n",
    "xs = str(x)\n",
    "print(x, xf)\n",
    "print(type(x), type(xf))\n",
    "# checking if x is an integer\n",
    "print(isinstance(x, int))\n",
    "print(isinstance(xf, int))\n",
    "print(isinstance(x, str))\n",
    "print(isinstance(xs, (int, float)))\n",
    "print(isinstance(x, (int, float)))"
   ]
  },
  {
   "cell_type": "code",
   "execution_count": null,
   "metadata": {},
   "outputs": [],
   "source": [
    "int('20a') # this will not work"
   ]
  },
  {
   "cell_type": "code",
   "execution_count": null,
   "metadata": {},
   "outputs": [],
   "source": [
    "ord('a') # returns the Unicode value of a character"
   ]
  },
  {
   "cell_type": "code",
   "execution_count": null,
   "metadata": {},
   "outputs": [],
   "source": [
    "print(chr(15108)) # returns the character of a Unicode value"
   ]
  },
  {
   "cell_type": "code",
   "execution_count": null,
   "metadata": {},
   "outputs": [],
   "source": [
    "a = int(input('enter a number'))\n",
    "b = int(input('enter another number'))\n",
    "print(a + b)"
   ]
  },
  {
   "cell_type": "code",
   "execution_count": null,
   "metadata": {},
   "outputs": [],
   "source": [
    "float('230.35')"
   ]
  },
  {
   "cell_type": "code",
   "execution_count": null,
   "metadata": {},
   "outputs": [],
   "source": []
  }
 ],
 "metadata": {
  "kernelspec": {
   "display_name": "base",
   "language": "python",
   "name": "python3"
  },
  "language_info": {
   "codemirror_mode": {
    "name": "ipython",
    "version": 3
   },
   "file_extension": ".py",
   "mimetype": "text/x-python",
   "name": "python",
   "nbconvert_exporter": "python",
   "pygments_lexer": "ipython3",
   "version": "3.12.2"
  }
 },
 "nbformat": 4,
 "nbformat_minor": 2
}
